{
 "cells": [
  {
   "cell_type": "code",
   "execution_count": 11,
   "metadata": {
    "collapsed": false,
    "scrolled": true
   },
   "outputs": [
    {
     "name": "stdout",
     "output_type": "stream",
     "text": [
      "('Dictionary Words', ['apple', 'orange', 'egg', 'lemon', 'grapes', 'secret', 'strawberry', 'password'])\n",
      "('Passwords:', ['HX9LLTdc/jiDE', 'DFNFxgW7C05fo'])\n",
      "('Users:', ['victim', 'root'])\n",
      "Exercise #1-----------------------------------\n",
      "('Password Hash: ', 'HX9LLTdc/jiDE')\n",
      "('Identified Salt: ', 'HX')\n",
      "Found Plaintext Password for User victim, Password = egg: \n",
      "('Password Hash: ', 'DFNFxgW7C05fo')\n",
      "('Identified Salt: ', 'DF')\n",
      "No Password Found for User root\n",
      "Exercise #2-----------------------------------\n",
      "('Incorrect password: ', 'apple')\n",
      "('Incorrect password: ', 'orange')\n",
      "('Incorrect password: ', 'egg')\n",
      "('Incorrect password: ', 'lemon')\n",
      "('Incorrect password: ', 'grapes')\n",
      "Found Zip Password: secret\n",
      "('Incorrect password: ', 'strawberry')\n",
      "('Incorrect password: ', 'password')\n",
      "Exercise #3-----------------------------------\n",
      "Simple Socket Port scanner\n",
      "Scanning IP 54.245.90.180\n",
      "Port 21:      Closed\n",
      "Port 22:      Closed\n",
      "Port 23:      Closed\n",
      "Port 25:      Closed\n",
      "Port 80:      Closed\n",
      "Port 143:      Closed\n",
      "Port 443:      Closed\n",
      "Nmap Port Scanner\n"
     ]
    },
    {
     "ename": "PortScannerError",
     "evalue": "'nmap program was not found in path. PATH is : C:\\\\ProgramData\\\\Anaconda3\\\\envs\\\\py2\\\\Library\\\\bin;C:\\\\ProgramData\\\\Anaconda3\\\\envs\\\\py2\\\\Library\\\\bin;C:\\\\ProgramData\\\\Anaconda3\\\\envs\\\\py2\\\\Scripts;C:\\\\ProgramData\\\\Anaconda3\\\\envs\\\\py2\\\\Library\\\\bin;C:\\\\ProgramData\\\\Anaconda3\\\\envs\\\\py2;C:\\\\ProgramData\\\\Anaconda3\\\\envs\\\\py2\\\\Library\\\\mingw-w64\\\\bin;C:\\\\ProgramData\\\\Anaconda3\\\\envs\\\\py2\\\\Library\\\\usr\\\\bin;C:\\\\ProgramData\\\\Anaconda3\\\\envs\\\\py2\\\\Library\\\\bin;C:\\\\ProgramData\\\\Anaconda3\\\\envs\\\\py2\\\\Scripts;C:\\\\ProgramData\\\\Oracle\\\\Java\\\\javapath;C:\\\\Program Files\\\\Common Files\\\\Microsoft Shared\\\\Windows Live;C:\\\\Program Files (x86)\\\\Common Files\\\\Microsoft Shared\\\\Windows Live;C:\\\\Windows\\\\system32;C:\\\\Windows;C:\\\\Windows\\\\System32\\\\Wbem;C:\\\\Windows\\\\System32\\\\WindowsPowerShell\\\\v1.0\\\\;C:\\\\Program Files\\\\Intel\\\\WiFi\\\\bin\\\\;C:\\\\Program Files\\\\Common Files\\\\Intel\\\\WirelessCommon\\\\;C:\\\\Program Files (x86)\\\\Windows Live\\\\Shared;C:\\\\Program Files (x86)\\\\Calibre2\\\\;C:\\\\Python27;C:\\\\adb;C:\\\\Program Files (x86)\\\\QuickTime\\\\QTSystem\\\\;C:\\\\Program Files\\\\MiKTeX 2.9\\\\miktex\\\\bin\\\\x64\\\\;C:\\\\Program Files (x86)\\\\Skype\\\\Phone\\\\;C:\\\\ProgramData\\\\Anaconda3;C:\\\\ProgramData\\\\Anaconda3\\\\Scripts;C:\\\\ProgramData\\\\Anaconda3\\\\Library\\\\bin;C:\\\\Program Files\\\\MySQL\\\\MySQL Utilities 1.6\\\\;C:\\\\Program Files\\\\Git\\\\cmd;C:\\\\Users\\\\Yao\\\\AppData\\\\Local\\\\GitHubDesktop\\\\bin'",
     "output_type": "error",
     "traceback": [
      "\u001b[1;31m---------------------------------------------------------------------------\u001b[0m",
      "\u001b[1;31mPortScannerError\u001b[0m                          Traceback (most recent call last)",
      "\u001b[1;32m<ipython-input-11-c293014e2f85>\u001b[0m in \u001b[0;36m<module>\u001b[1;34m()\u001b[0m\n\u001b[0;32m    141\u001b[0m \u001b[1;33m\u001b[0m\u001b[0m\n\u001b[0;32m    142\u001b[0m \u001b[1;32mif\u001b[0m \u001b[0m__name__\u001b[0m \u001b[1;33m==\u001b[0m \u001b[1;34m\"__main__\"\u001b[0m\u001b[1;33m:\u001b[0m\u001b[1;33m\u001b[0m\u001b[0m\n\u001b[1;32m--> 143\u001b[1;33m     \u001b[0mmain\u001b[0m\u001b[1;33m(\u001b[0m\u001b[1;33m)\u001b[0m\u001b[1;33m\u001b[0m\u001b[0m\n\u001b[0m",
      "\u001b[1;32m<ipython-input-11-c293014e2f85>\u001b[0m in \u001b[0;36mmain\u001b[1;34m()\u001b[0m\n\u001b[0;32m    135\u001b[0m     \u001b[1;32mprint\u001b[0m \u001b[1;33m(\u001b[0m\u001b[1;34m\"Exercise #3-----------------------------------\"\u001b[0m\u001b[1;33m)\u001b[0m\u001b[1;33m\u001b[0m\u001b[0m\n\u001b[0;32m    136\u001b[0m     \u001b[0mport_scanner_socket\u001b[0m\u001b[1;33m(\u001b[0m\u001b[1;33m)\u001b[0m\u001b[1;33m\u001b[0m\u001b[0m\n\u001b[1;32m--> 137\u001b[1;33m     \u001b[0mport_scanner_nmap\u001b[0m\u001b[1;33m(\u001b[0m\u001b[1;33m)\u001b[0m\u001b[1;33m\u001b[0m\u001b[0m\n\u001b[0m\u001b[0;32m    138\u001b[0m \u001b[1;33m\u001b[0m\u001b[0m\n\u001b[0;32m    139\u001b[0m     \u001b[1;32mreturn\u001b[0m\u001b[1;33m\u001b[0m\u001b[0m\n",
      "\u001b[1;32m<ipython-input-11-c293014e2f85>\u001b[0m in \u001b[0;36mport_scanner_nmap\u001b[1;34m()\u001b[0m\n\u001b[0;32m    100\u001b[0m \u001b[1;32mdef\u001b[0m \u001b[0mport_scanner_nmap\u001b[0m\u001b[1;33m(\u001b[0m\u001b[1;33m)\u001b[0m\u001b[1;33m:\u001b[0m\u001b[1;33m\u001b[0m\u001b[0m\n\u001b[0;32m    101\u001b[0m     \u001b[1;32mprint\u001b[0m \u001b[1;33m(\u001b[0m\u001b[1;34m\"Nmap Port Scanner\"\u001b[0m\u001b[1;33m)\u001b[0m\u001b[1;33m\u001b[0m\u001b[0m\n\u001b[1;32m--> 102\u001b[1;33m     \u001b[0mnm\u001b[0m \u001b[1;33m=\u001b[0m \u001b[0mnmap\u001b[0m\u001b[1;33m.\u001b[0m\u001b[0mPortScanner\u001b[0m\u001b[1;33m(\u001b[0m\u001b[1;33m)\u001b[0m\u001b[1;33m\u001b[0m\u001b[0m\n\u001b[0m\u001b[0;32m    103\u001b[0m     \u001b[0mremoteServerIP\u001b[0m\u001b[1;33m=\u001b[0m\u001b[1;34m'54.245.90.180'\u001b[0m\u001b[1;33m\u001b[0m\u001b[0m\n\u001b[0;32m    104\u001b[0m     \u001b[1;32mprint\u001b[0m \u001b[1;33m(\u001b[0m\u001b[1;34m\"Scanning IP %s\"\u001b[0m \u001b[1;33m%\u001b[0m \u001b[1;33m(\u001b[0m\u001b[0mremoteServerIP\u001b[0m\u001b[1;33m)\u001b[0m\u001b[1;33m)\u001b[0m\u001b[1;33m\u001b[0m\u001b[0m\n",
      "\u001b[1;32mC:\\ProgramData\\Anaconda3\\envs\\py2\\lib\\site-packages\\nmap\\nmap.pyc\u001b[0m in \u001b[0;36m__init__\u001b[1;34m(self, nmap_search_path)\u001b[0m\n",
      "\u001b[1;31mPortScannerError\u001b[0m: 'nmap program was not found in path. PATH is : C:\\\\ProgramData\\\\Anaconda3\\\\envs\\\\py2\\\\Library\\\\bin;C:\\\\ProgramData\\\\Anaconda3\\\\envs\\\\py2\\\\Library\\\\bin;C:\\\\ProgramData\\\\Anaconda3\\\\envs\\\\py2\\\\Scripts;C:\\\\ProgramData\\\\Anaconda3\\\\envs\\\\py2\\\\Library\\\\bin;C:\\\\ProgramData\\\\Anaconda3\\\\envs\\\\py2;C:\\\\ProgramData\\\\Anaconda3\\\\envs\\\\py2\\\\Library\\\\mingw-w64\\\\bin;C:\\\\ProgramData\\\\Anaconda3\\\\envs\\\\py2\\\\Library\\\\usr\\\\bin;C:\\\\ProgramData\\\\Anaconda3\\\\envs\\\\py2\\\\Library\\\\bin;C:\\\\ProgramData\\\\Anaconda3\\\\envs\\\\py2\\\\Scripts;C:\\\\ProgramData\\\\Oracle\\\\Java\\\\javapath;C:\\\\Program Files\\\\Common Files\\\\Microsoft Shared\\\\Windows Live;C:\\\\Program Files (x86)\\\\Common Files\\\\Microsoft Shared\\\\Windows Live;C:\\\\Windows\\\\system32;C:\\\\Windows;C:\\\\Windows\\\\System32\\\\Wbem;C:\\\\Windows\\\\System32\\\\WindowsPowerShell\\\\v1.0\\\\;C:\\\\Program Files\\\\Intel\\\\WiFi\\\\bin\\\\;C:\\\\Program Files\\\\Common Files\\\\Intel\\\\WirelessCommon\\\\;C:\\\\Program Files (x86)\\\\Windows Live\\\\Shared;C:\\\\Program Files (x86)\\\\Calibre2\\\\;C:\\\\Python27;C:\\\\adb;C:\\\\Program Files (x86)\\\\QuickTime\\\\QTSystem\\\\;C:\\\\Program Files\\\\MiKTeX 2.9\\\\miktex\\\\bin\\\\x64\\\\;C:\\\\Program Files (x86)\\\\Skype\\\\Phone\\\\;C:\\\\ProgramData\\\\Anaconda3;C:\\\\ProgramData\\\\Anaconda3\\\\Scripts;C:\\\\ProgramData\\\\Anaconda3\\\\Library\\\\bin;C:\\\\Program Files\\\\MySQL\\\\MySQL Utilities 1.6\\\\;C:\\\\Program Files\\\\Git\\\\cmd;C:\\\\Users\\\\Yao\\\\AppData\\\\Local\\\\GitHubDesktop\\\\bin'"
     ]
    }
   ],
   "source": [
    "from fcrypt import crypt\n",
    "from hmac import compare_digest as compare_hash\n",
    "import zipfile\n",
    "import socket\n",
    "import nmap\n",
    "import json\n",
    "import os\n",
    "\n",
    "def get_dictionary_words():\n",
    "    #open and parse dictionary file\n",
    "    with open('HW3dictionary_2.txt', 'r') as g:\n",
    "        dictwords = g.readlines()\n",
    "        dictwords = [x.strip() for x in dictwords]\n",
    "        print (\"Dictionary Words\", dictwords)\n",
    "        return dictwords\n",
    "\n",
    "\n",
    "def get_passwords():\n",
    "    #open and parse passwords file\n",
    "    with open('HW3passwords_2.txt', 'rb') as f:\n",
    "        data = f.readlines()\n",
    "        passwords = [x.split(b\":\")[1].strip() for x in data]\n",
    "        print (\"Passwords:\", passwords)\n",
    "        return passwords\n",
    "\n",
    "\n",
    "def get_users():\n",
    "    with open('HW3passwords_2.txt', 'rb') as f:\n",
    "        data = f.readlines()\n",
    "        users = [x.split(b\":\")[0].strip() for x in data]\n",
    "        print (\"Users:\", users)\n",
    "        return users    \n",
    "\n",
    "\n",
    "#Exercise 1\n",
    "def unix_password_cracker(dictwords, passwords, users):\n",
    "    i=0\n",
    "    for password in passwords:\n",
    "        pass_found = 0\n",
    "        print (\"Password Hash: \", password)\n",
    "        #We know DES algorithm was used based on 13 char output\n",
    "        #hashed password has first 2 character of DES as salt\n",
    "        salt = password[:2]\n",
    "        print (\"Identified Salt: \", salt)\n",
    "\n",
    "        #iterate through dictionary words\n",
    "        for word in dictwords:\n",
    "            hashed = crypt(word, salt)\n",
    "            if compare_hash(password, crypt(word, salt)):\n",
    "                print (\"Found Plaintext Password for User %s, Password = %s: \" % (users[i], word))\n",
    "                pass_found=1\n",
    "                i += 1\n",
    "        if pass_found == 0:\n",
    "            print (\"No Password Found for User %s\" % (users[i]))\n",
    "            i += 1\n",
    "    return\n",
    "                \n",
    "    \n",
    "#Exercise 2        \n",
    "def zip_file_password_cracker(dictwords):\n",
    "    for word in dictwords:\n",
    "        #with zipfile.ZipFile('evil_2_2.zip', 'r', password) as zf:\n",
    "        with zipfile.ZipFile('evil_2_2.zip') as zf:\n",
    "            #zf.extractall(pwd=word)\n",
    "            try:\n",
    "                result = zf.extractall(pwd=word)\n",
    "                #Returns None if no wrong password exception, which means correct password\n",
    "                if result == None:\n",
    "                    print (\"Found Zip Password: %s\" % (word))\n",
    "            except:\n",
    "                print (\"Incorrect password: \", word)\n",
    "\n",
    "    return\n",
    "\n",
    "\n",
    "#Exercise 3 Part 1\n",
    "def port_scanner_socket():\n",
    "    #what IP range do we need to scan\n",
    "    print (\"Simple Socket Port scanner\")\n",
    "    ports_to_scan = [21, 22, 23, 25, 80, 143, 443]\n",
    "    remoteServerIP='54.245.90.180'\n",
    "    print (\"Scanning IP %s\" % (remoteServerIP) )\n",
    "\n",
    "    try:\n",
    "        for port in ports_to_scan: \n",
    "            sock = socket.socket(socket.AF_INET, socket.SOCK_STREAM)\n",
    "            result = sock.connect_ex((remoteServerIP, port))\n",
    "            if result == 0:\n",
    "                print (\"Port {}:      Open\".format(port))\n",
    "            else:\n",
    "                print (\"Port {}:      Closed\".format(port))\n",
    "            sock.close()\n",
    "\n",
    "    except:\n",
    "        print (\"Exception\")\n",
    "    return\n",
    "\n",
    "\n",
    "#Exercise 3 Part 2\n",
    "def port_scanner_nmap():\n",
    "    print (\"Nmap Port Scanner\")\n",
    "    nm = nmap.PortScanner()\n",
    "    remoteServerIP='54.245.90.180'\n",
    "    print (\"Scanning IP %s\" % (remoteServerIP)) \n",
    "    ports_to_scan = ['21', '22', '23', '25', '80', '143', '443']\n",
    "    try:\n",
    "        for port in ports_to_scan:\n",
    "            result = nm.scan(remoteServerIP, port)\n",
    "            #print (result)\n",
    "            port = int(port)\n",
    "            #print (result)\n",
    "            reason = result['scan'][remoteServerIP]['tcp'][port]['reason']\n",
    "            #print (\"Port %s    Result: %s\" % (port, result['scan'][remoteServerIP]['tcp'][port]['reason']))\n",
    "            if reason == 'conn-refused' or reason == 'no-response':\n",
    "                print (\"Port %s    Closed\" % (port))\n",
    "            elif reason == 'syn-ack':\n",
    "                print (\"Port %s    Open\" % (port))\n",
    "    except:\n",
    "        print (\"Exception\")\n",
    "    return\n",
    "\n",
    "\n",
    "def main():\n",
    "    dictwords = get_dictionary_words()\n",
    "    passwords = get_passwords()\n",
    "    users = get_users()\n",
    "\n",
    "    #Exercise 1\n",
    "    print (\"Exercise #1-----------------------------------\")\n",
    "    unix_password_cracker(dictwords, passwords, users)\n",
    "    #Exercise 2\n",
    "    print (\"Exercise #2-----------------------------------\")\n",
    "    zip_file_password_cracker(dictwords)\n",
    "    #Exercise 3\n",
    "    print (\"Exercise #3-----------------------------------\")\n",
    "    port_scanner_socket()\n",
    "    port_scanner_nmap()\n",
    "\n",
    "    return\n",
    "\n",
    "\n",
    "if __name__ == \"__main__\":\n",
    "    main()"
   ]
  },
  {
   "cell_type": "code",
   "execution_count": 9,
   "metadata": {
    "collapsed": false
   },
   "outputs": [
    {
     "ename": "PortScannerError",
     "evalue": "'nmap program was not found in path. PATH is : C:\\\\ProgramData\\\\Anaconda3\\\\envs\\\\py2\\\\Library\\\\bin;C:\\\\ProgramData\\\\Anaconda3\\\\envs\\\\py2\\\\Library\\\\bin;C:\\\\ProgramData\\\\Anaconda3\\\\envs\\\\py2\\\\Scripts;C:\\\\ProgramData\\\\Anaconda3\\\\envs\\\\py2\\\\Library\\\\bin;C:\\\\ProgramData\\\\Anaconda3\\\\envs\\\\py2;C:\\\\ProgramData\\\\Anaconda3\\\\envs\\\\py2\\\\Library\\\\mingw-w64\\\\bin;C:\\\\ProgramData\\\\Anaconda3\\\\envs\\\\py2\\\\Library\\\\usr\\\\bin;C:\\\\ProgramData\\\\Anaconda3\\\\envs\\\\py2\\\\Library\\\\bin;C:\\\\ProgramData\\\\Anaconda3\\\\envs\\\\py2\\\\Scripts;C:\\\\ProgramData\\\\Oracle\\\\Java\\\\javapath;C:\\\\Program Files\\\\Common Files\\\\Microsoft Shared\\\\Windows Live;C:\\\\Program Files (x86)\\\\Common Files\\\\Microsoft Shared\\\\Windows Live;C:\\\\Windows\\\\system32;C:\\\\Windows;C:\\\\Windows\\\\System32\\\\Wbem;C:\\\\Windows\\\\System32\\\\WindowsPowerShell\\\\v1.0\\\\;C:\\\\Program Files\\\\Intel\\\\WiFi\\\\bin\\\\;C:\\\\Program Files\\\\Common Files\\\\Intel\\\\WirelessCommon\\\\;C:\\\\Program Files (x86)\\\\Windows Live\\\\Shared;C:\\\\Program Files (x86)\\\\Calibre2\\\\;C:\\\\Python27;C:\\\\adb;C:\\\\Program Files (x86)\\\\QuickTime\\\\QTSystem\\\\;C:\\\\Program Files\\\\MiKTeX 2.9\\\\miktex\\\\bin\\\\x64\\\\;C:\\\\Program Files (x86)\\\\Skype\\\\Phone\\\\;C:\\\\ProgramData\\\\Anaconda3;C:\\\\ProgramData\\\\Anaconda3\\\\Scripts;C:\\\\ProgramData\\\\Anaconda3\\\\Library\\\\bin;C:\\\\Program Files\\\\MySQL\\\\MySQL Utilities 1.6\\\\;C:\\\\Program Files\\\\Git\\\\cmd;C:\\\\Users\\\\Yao\\\\AppData\\\\Local\\\\GitHubDesktop\\\\bin'",
     "output_type": "error",
     "traceback": [
      "\u001b[1;31m---------------------------------------------------------------------------\u001b[0m",
      "\u001b[1;31mPortScannerError\u001b[0m                          Traceback (most recent call last)",
      "\u001b[1;32m<ipython-input-9-4673dcc7138e>\u001b[0m in \u001b[0;36m<module>\u001b[1;34m()\u001b[0m\n\u001b[1;32m----> 1\u001b[1;33m \u001b[0mnmap\u001b[0m\u001b[1;33m.\u001b[0m\u001b[0mPortScanner\u001b[0m\u001b[1;33m(\u001b[0m\u001b[1;33m)\u001b[0m\u001b[1;33m\u001b[0m\u001b[0m\n\u001b[0m",
      "\u001b[1;32mC:\\ProgramData\\Anaconda3\\envs\\py2\\lib\\site-packages\\nmap\\nmap.pyc\u001b[0m in \u001b[0;36m__init__\u001b[1;34m(self, nmap_search_path)\u001b[0m\n",
      "\u001b[1;31mPortScannerError\u001b[0m: 'nmap program was not found in path. PATH is : C:\\\\ProgramData\\\\Anaconda3\\\\envs\\\\py2\\\\Library\\\\bin;C:\\\\ProgramData\\\\Anaconda3\\\\envs\\\\py2\\\\Library\\\\bin;C:\\\\ProgramData\\\\Anaconda3\\\\envs\\\\py2\\\\Scripts;C:\\\\ProgramData\\\\Anaconda3\\\\envs\\\\py2\\\\Library\\\\bin;C:\\\\ProgramData\\\\Anaconda3\\\\envs\\\\py2;C:\\\\ProgramData\\\\Anaconda3\\\\envs\\\\py2\\\\Library\\\\mingw-w64\\\\bin;C:\\\\ProgramData\\\\Anaconda3\\\\envs\\\\py2\\\\Library\\\\usr\\\\bin;C:\\\\ProgramData\\\\Anaconda3\\\\envs\\\\py2\\\\Library\\\\bin;C:\\\\ProgramData\\\\Anaconda3\\\\envs\\\\py2\\\\Scripts;C:\\\\ProgramData\\\\Oracle\\\\Java\\\\javapath;C:\\\\Program Files\\\\Common Files\\\\Microsoft Shared\\\\Windows Live;C:\\\\Program Files (x86)\\\\Common Files\\\\Microsoft Shared\\\\Windows Live;C:\\\\Windows\\\\system32;C:\\\\Windows;C:\\\\Windows\\\\System32\\\\Wbem;C:\\\\Windows\\\\System32\\\\WindowsPowerShell\\\\v1.0\\\\;C:\\\\Program Files\\\\Intel\\\\WiFi\\\\bin\\\\;C:\\\\Program Files\\\\Common Files\\\\Intel\\\\WirelessCommon\\\\;C:\\\\Program Files (x86)\\\\Windows Live\\\\Shared;C:\\\\Program Files (x86)\\\\Calibre2\\\\;C:\\\\Python27;C:\\\\adb;C:\\\\Program Files (x86)\\\\QuickTime\\\\QTSystem\\\\;C:\\\\Program Files\\\\MiKTeX 2.9\\\\miktex\\\\bin\\\\x64\\\\;C:\\\\Program Files (x86)\\\\Skype\\\\Phone\\\\;C:\\\\ProgramData\\\\Anaconda3;C:\\\\ProgramData\\\\Anaconda3\\\\Scripts;C:\\\\ProgramData\\\\Anaconda3\\\\Library\\\\bin;C:\\\\Program Files\\\\MySQL\\\\MySQL Utilities 1.6\\\\;C:\\\\Program Files\\\\Git\\\\cmd;C:\\\\Users\\\\Yao\\\\AppData\\\\Local\\\\GitHubDesktop\\\\bin'"
     ]
    }
   ],
   "source": [
    "nmap.PortScanner()"
   ]
  },
  {
   "cell_type": "code",
   "execution_count": 10,
   "metadata": {
    "collapsed": true
   },
   "outputs": [],
   "source": [
    "?nmap"
   ]
  },
  {
   "cell_type": "code",
   "execution_count": 5,
   "metadata": {
    "collapsed": false
   },
   "outputs": [
    {
     "ename": "PortScannerError",
     "evalue": "'nmap program was not found in path. PATH is : C:\\\\ProgramData\\\\Anaconda3\\\\envs\\\\py2\\\\Library\\\\bin;C:\\\\ProgramData\\\\Anaconda3\\\\Library\\\\bin;C:\\\\ProgramData\\\\Anaconda3\\\\Scripts;C:\\\\ProgramData\\\\Anaconda3\\\\Library\\\\bin;C:\\\\ProgramData\\\\Oracle\\\\Java\\\\javapath;C:\\\\Program Files\\\\Common Files\\\\Microsoft Shared\\\\Windows Live;C:\\\\Program Files (x86)\\\\Common Files\\\\Microsoft Shared\\\\Windows Live;C:\\\\Windows\\\\system32;C:\\\\Windows;C:\\\\Windows\\\\System32\\\\Wbem;C:\\\\Windows\\\\System32\\\\WindowsPowerShell\\\\v1.0\\\\;C:\\\\Program Files\\\\Intel\\\\WiFi\\\\bin\\\\;C:\\\\Program Files\\\\Common Files\\\\Intel\\\\WirelessCommon\\\\;C:\\\\Program Files (x86)\\\\Windows Live\\\\Shared;C:\\\\Program Files (x86)\\\\Calibre2\\\\;C:\\\\Python27;C:\\\\adb;C:\\\\Program Files (x86)\\\\QuickTime\\\\QTSystem\\\\;C:\\\\Program Files\\\\MiKTeX 2.9\\\\miktex\\\\bin\\\\x64\\\\;C:\\\\Program Files (x86)\\\\Skype\\\\Phone\\\\;C:\\\\ProgramData\\\\Anaconda3;C:\\\\ProgramData\\\\Anaconda3\\\\Scripts;C:\\\\ProgramData\\\\Anaconda3\\\\Library\\\\bin;C:\\\\Program Files\\\\MySQL\\\\MySQL Utilities 1.6\\\\;C:\\\\Program Files\\\\Git\\\\cmd;C:\\\\Python27;C:\\\\Users\\\\Yao\\\\AppData\\\\Local\\\\GitHubDesktop\\\\bin'",
     "output_type": "error",
     "traceback": [
      "\u001b[1;31m---------------------------------------------------------------------------\u001b[0m",
      "\u001b[1;31mPortScannerError\u001b[0m                          Traceback (most recent call last)",
      "\u001b[1;32m<ipython-input-5-35f9195a8e4c>\u001b[0m in \u001b[0;36m<module>\u001b[1;34m()\u001b[0m\n\u001b[0;32m      1\u001b[0m \u001b[1;32mimport\u001b[0m \u001b[0mnmap\u001b[0m\u001b[1;33m\u001b[0m\u001b[0m\n\u001b[1;32m----> 2\u001b[1;33m \u001b[0mnm\u001b[0m \u001b[1;33m=\u001b[0m \u001b[0mnmap\u001b[0m\u001b[1;33m.\u001b[0m\u001b[0mPortScanner\u001b[0m\u001b[1;33m(\u001b[0m\u001b[1;33m)\u001b[0m\u001b[1;33m\u001b[0m\u001b[0m\n\u001b[0m",
      "\u001b[1;32mC:\\ProgramData\\Anaconda3\\envs\\py2\\lib\\site-packages\\nmap\\nmap.pyc\u001b[0m in \u001b[0;36m__init__\u001b[1;34m(self, nmap_search_path)\u001b[0m\n\u001b[0;32m    129\u001b[0m             raise PortScannerError(\n\u001b[0;32m    130\u001b[0m                 'nmap program was not found in path. PATH is : {0}'.format(\n\u001b[1;32m--> 131\u001b[1;33m                     \u001b[0mos\u001b[0m\u001b[1;33m.\u001b[0m\u001b[0mgetenv\u001b[0m\u001b[1;33m(\u001b[0m\u001b[1;34m'PATH'\u001b[0m\u001b[1;33m)\u001b[0m\u001b[1;33m\u001b[0m\u001b[0m\n\u001b[0m\u001b[0;32m    132\u001b[0m                 )\n\u001b[0;32m    133\u001b[0m             )\n",
      "\u001b[1;31mPortScannerError\u001b[0m: 'nmap program was not found in path. PATH is : C:\\\\ProgramData\\\\Anaconda3\\\\envs\\\\py2\\\\Library\\\\bin;C:\\\\ProgramData\\\\Anaconda3\\\\Library\\\\bin;C:\\\\ProgramData\\\\Anaconda3\\\\Scripts;C:\\\\ProgramData\\\\Anaconda3\\\\Library\\\\bin;C:\\\\ProgramData\\\\Oracle\\\\Java\\\\javapath;C:\\\\Program Files\\\\Common Files\\\\Microsoft Shared\\\\Windows Live;C:\\\\Program Files (x86)\\\\Common Files\\\\Microsoft Shared\\\\Windows Live;C:\\\\Windows\\\\system32;C:\\\\Windows;C:\\\\Windows\\\\System32\\\\Wbem;C:\\\\Windows\\\\System32\\\\WindowsPowerShell\\\\v1.0\\\\;C:\\\\Program Files\\\\Intel\\\\WiFi\\\\bin\\\\;C:\\\\Program Files\\\\Common Files\\\\Intel\\\\WirelessCommon\\\\;C:\\\\Program Files (x86)\\\\Windows Live\\\\Shared;C:\\\\Program Files (x86)\\\\Calibre2\\\\;C:\\\\Python27;C:\\\\adb;C:\\\\Program Files (x86)\\\\QuickTime\\\\QTSystem\\\\;C:\\\\Program Files\\\\MiKTeX 2.9\\\\miktex\\\\bin\\\\x64\\\\;C:\\\\Program Files (x86)\\\\Skype\\\\Phone\\\\;C:\\\\ProgramData\\\\Anaconda3;C:\\\\ProgramData\\\\Anaconda3\\\\Scripts;C:\\\\ProgramData\\\\Anaconda3\\\\Library\\\\bin;C:\\\\Program Files\\\\MySQL\\\\MySQL Utilities 1.6\\\\;C:\\\\Program Files\\\\Git\\\\cmd;C:\\\\Python27;C:\\\\Users\\\\Yao\\\\AppData\\\\Local\\\\GitHubDesktop\\\\bin'"
     ]
    }
   ],
   "source": [
    "import nmap\n",
    "nm = nmap.PortScanner()"
   ]
  },
  {
   "cell_type": "code",
   "execution_count": null,
   "metadata": {
    "collapsed": true
   },
   "outputs": [],
   "source": []
  }
 ],
 "metadata": {
  "kernelspec": {
   "display_name": "Python 2",
   "language": "python",
   "name": "python2"
  },
  "language_info": {
   "codemirror_mode": {
    "name": "ipython",
    "version": 2
   },
   "file_extension": ".py",
   "mimetype": "text/x-python",
   "name": "python",
   "nbconvert_exporter": "python",
   "pygments_lexer": "ipython2",
   "version": "2.7.13"
  }
 },
 "nbformat": 4,
 "nbformat_minor": 2
}
