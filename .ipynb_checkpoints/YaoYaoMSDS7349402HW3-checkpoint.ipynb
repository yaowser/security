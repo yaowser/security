{
 "cells": [
  {
   "cell_type": "code",
   "execution_count": 64,
   "metadata": {
    "collapsed": false
   },
   "outputs": [
    {
     "name": "stdout",
     "output_type": "stream",
     "text": [
      "Dictionary Words ['apple', 'orange', 'egg', 'lemon', 'grapes', 'secret', 'strawberry', 'password']\n",
      "Passwords: [b'HX9LLTdc/jiDE', b'DFNFxgW7C05fo']\n",
      "Users: [b'victim', b'root']\n",
      "Exercise #1-----------------------------------\n",
      "Password Hash:  b'HX9LLTdc/jiDE'\n",
      "Identified Salt:  b'H'\n"
     ]
    },
    {
     "ename": "TypeError",
     "evalue": "can't concat bytes to str",
     "output_type": "error",
     "traceback": [
      "\u001b[0;31m---------------------------------------------------------------------------\u001b[0m",
      "\u001b[0;31mTypeError\u001b[0m                                 Traceback (most recent call last)",
      "\u001b[0;32m<ipython-input-64-773711fb2800>\u001b[0m in \u001b[0;36m<module>\u001b[0;34m()\u001b[0m\n\u001b[1;32m    141\u001b[0m \u001b[1;33m\u001b[0m\u001b[0m\n\u001b[1;32m    142\u001b[0m \u001b[1;32mif\u001b[0m \u001b[0m__name__\u001b[0m \u001b[1;33m==\u001b[0m \u001b[1;34m\"__main__\"\u001b[0m\u001b[1;33m:\u001b[0m\u001b[1;33m\u001b[0m\u001b[0m\n\u001b[0;32m--> 143\u001b[0;31m     \u001b[0mmain\u001b[0m\u001b[1;33m(\u001b[0m\u001b[1;33m)\u001b[0m\u001b[1;33m\u001b[0m\u001b[0m\n\u001b[0m",
      "\u001b[0;32m<ipython-input-64-773711fb2800>\u001b[0m in \u001b[0;36mmain\u001b[0;34m()\u001b[0m\n\u001b[1;32m    128\u001b[0m     \u001b[1;31m#Exercise 1\u001b[0m\u001b[1;33m\u001b[0m\u001b[1;33m\u001b[0m\u001b[0m\n\u001b[1;32m    129\u001b[0m     \u001b[0mprint\u001b[0m \u001b[1;33m(\u001b[0m\u001b[1;34m\"Exercise #1-----------------------------------\"\u001b[0m\u001b[1;33m)\u001b[0m\u001b[1;33m\u001b[0m\u001b[0m\n\u001b[0;32m--> 130\u001b[0;31m     \u001b[0munix_password_cracker\u001b[0m\u001b[1;33m(\u001b[0m\u001b[0mdictwords\u001b[0m\u001b[1;33m,\u001b[0m \u001b[0mpasswords\u001b[0m\u001b[1;33m,\u001b[0m \u001b[0musers\u001b[0m\u001b[1;33m)\u001b[0m\u001b[1;33m\u001b[0m\u001b[0m\n\u001b[0m\u001b[1;32m    131\u001b[0m     \u001b[1;31m#Exercise 2\u001b[0m\u001b[1;33m\u001b[0m\u001b[1;33m\u001b[0m\u001b[0m\n\u001b[1;32m    132\u001b[0m     \u001b[0mprint\u001b[0m \u001b[1;33m(\u001b[0m\u001b[1;34m\"Exercise #2-----------------------------------\"\u001b[0m\u001b[1;33m)\u001b[0m\u001b[1;33m\u001b[0m\u001b[0m\n",
      "\u001b[0;32m<ipython-input-64-773711fb2800>\u001b[0m in \u001b[0;36munix_password_cracker\u001b[0;34m(dictwords, passwords, users)\u001b[0m\n\u001b[1;32m     46\u001b[0m         \u001b[1;31m#iterate through dictionary words\u001b[0m\u001b[1;33m\u001b[0m\u001b[1;33m\u001b[0m\u001b[0m\n\u001b[1;32m     47\u001b[0m         \u001b[1;32mfor\u001b[0m \u001b[0mword\u001b[0m \u001b[1;32min\u001b[0m \u001b[0mdictwords\u001b[0m\u001b[1;33m:\u001b[0m\u001b[1;33m\u001b[0m\u001b[0m\n\u001b[0;32m---> 48\u001b[0;31m             \u001b[0mhashed\u001b[0m \u001b[1;33m=\u001b[0m \u001b[0mcrypt\u001b[0m\u001b[1;33m(\u001b[0m\u001b[0mword\u001b[0m\u001b[1;33m,\u001b[0m \u001b[0msalt\u001b[0m\u001b[1;33m)\u001b[0m\u001b[1;33m\u001b[0m\u001b[0m\n\u001b[0m\u001b[1;32m     49\u001b[0m             \u001b[1;32mif\u001b[0m \u001b[0mcompare_hash\u001b[0m\u001b[1;33m(\u001b[0m\u001b[0mpassword\u001b[0m\u001b[1;33m,\u001b[0m \u001b[0mcrypt\u001b[0m\u001b[1;33m(\u001b[0m\u001b[0mword\u001b[0m\u001b[1;33m,\u001b[0m \u001b[0msalt\u001b[0m\u001b[1;33m)\u001b[0m\u001b[1;33m)\u001b[0m\u001b[1;33m:\u001b[0m\u001b[1;33m\u001b[0m\u001b[0m\n\u001b[1;32m     50\u001b[0m                 \u001b[0mprint\u001b[0m \u001b[1;33m(\u001b[0m\u001b[1;34m\"Found Plaintext Password for User %s, Password = %s: \"\u001b[0m \u001b[1;33m%\u001b[0m \u001b[1;33m(\u001b[0m\u001b[0musers\u001b[0m\u001b[1;33m[\u001b[0m\u001b[0mi\u001b[0m\u001b[1;33m]\u001b[0m\u001b[1;33m,\u001b[0m \u001b[0mword\u001b[0m\u001b[1;33m)\u001b[0m\u001b[1;33m)\u001b[0m\u001b[1;33m\u001b[0m\u001b[0m\n",
      "\u001b[0;32mC:\\ProgramData\\Anaconda3\\lib\\site-packages\\fcrypt.py\u001b[0m in \u001b[0;36mcrypt\u001b[0;34m(password, salt)\u001b[0m\n\u001b[1;32m    586\u001b[0m         \u001b[0msalt\u001b[0m \u001b[1;33m=\u001b[0m \u001b[1;34m'AA'\u001b[0m\u001b[1;33m\u001b[0m\u001b[0m\n\u001b[1;32m    587\u001b[0m     \u001b[1;32melif\u001b[0m \u001b[0mlen\u001b[0m\u001b[1;33m(\u001b[0m\u001b[0msalt\u001b[0m\u001b[1;33m)\u001b[0m \u001b[1;33m==\u001b[0m \u001b[1;36m1\u001b[0m\u001b[1;33m:\u001b[0m\u001b[1;33m\u001b[0m\u001b[0m\n\u001b[0;32m--> 588\u001b[0;31m         \u001b[0msalt\u001b[0m \u001b[1;33m=\u001b[0m \u001b[0msalt\u001b[0m \u001b[1;33m+\u001b[0m \u001b[1;34m'A'\u001b[0m\u001b[1;33m\u001b[0m\u001b[0m\n\u001b[0m\u001b[1;32m    589\u001b[0m     \u001b[0mEswap0\u001b[0m \u001b[1;33m=\u001b[0m \u001b[0m_con_salt\u001b[0m\u001b[1;33m[\u001b[0m\u001b[0mord\u001b[0m\u001b[1;33m(\u001b[0m\u001b[0msalt\u001b[0m\u001b[1;33m[\u001b[0m\u001b[1;36m0\u001b[0m\u001b[1;33m]\u001b[0m\u001b[1;33m)\u001b[0m \u001b[1;33m&\u001b[0m \u001b[1;36m0x7f\u001b[0m\u001b[1;33m]\u001b[0m\u001b[1;33m\u001b[0m\u001b[0m\n\u001b[1;32m    590\u001b[0m     \u001b[0mEswap1\u001b[0m \u001b[1;33m=\u001b[0m \u001b[0m_con_salt\u001b[0m\u001b[1;33m[\u001b[0m\u001b[0mord\u001b[0m\u001b[1;33m(\u001b[0m\u001b[0msalt\u001b[0m\u001b[1;33m[\u001b[0m\u001b[1;36m1\u001b[0m\u001b[1;33m]\u001b[0m\u001b[1;33m)\u001b[0m \u001b[1;33m&\u001b[0m \u001b[1;36m0x7f\u001b[0m\u001b[1;33m]\u001b[0m \u001b[1;33m<<\u001b[0m \u001b[1;36m4\u001b[0m\u001b[1;33m\u001b[0m\u001b[0m\n",
      "\u001b[0;31mTypeError\u001b[0m: can't concat bytes to str"
     ]
    }
   ],
   "source": [
    "from fcrypt import crypt\n",
    "from hmac import compare_digest as compare_hash\n",
    "import zipfile\n",
    "import socket\n",
    "import nmap\n",
    "import json\n",
    "\n",
    "\n",
    "def get_dictionary_words():\n",
    "    #open and parse dictionary file\n",
    "    with open('HW3dictionary_2.txt', 'r') as g:\n",
    "        dictwords = g.readlines()\n",
    "        dictwords = [x.strip() for x in dictwords]\n",
    "        print (\"Dictionary Words\", dictwords)\n",
    "        return dictwords\n",
    "\n",
    "\n",
    "def get_passwords():\n",
    "    #open and parse passwords file\n",
    "    with open('HW3passwords_2.txt', 'rb') as f:\n",
    "        data = f.readlines()\n",
    "        passwords = [x.split(b\":\")[1].strip() for x in data]\n",
    "        print (\"Passwords:\", passwords)\n",
    "        return passwords\n",
    "\n",
    "\n",
    "def get_users():\n",
    "    with open('HW3passwords_2.txt', 'rb') as f:\n",
    "        data = f.readlines()\n",
    "        users = [x.split(b\":\")[0].strip() for x in data]\n",
    "        print (\"Users:\", users)\n",
    "        return users    \n",
    "\n",
    "\n",
    "#Exercise 1\n",
    "def unix_password_cracker(dictwords, passwords, users):\n",
    "    i=0\n",
    "    for password in passwords:\n",
    "        pass_found = 0\n",
    "        print (\"Password Hash: \", password)\n",
    "        #We know DES algorithm was used based on 13 char output\n",
    "        #hashed password has first 2 character of DES as salt\n",
    "        salt = password[:1]\n",
    "        print (\"Identified Salt: \", salt)\n",
    "\n",
    "        #iterate through dictionary words\n",
    "        for word in dictwords:\n",
    "            hashed = crypt(word, salt)\n",
    "            if compare_hash(password, crypt(word, salt)):\n",
    "                print (\"Found Plaintext Password for User %s, Password = %s: \" % (users[i], word))\n",
    "                pass_found=1\n",
    "                i += 1\n",
    "        if pass_found == 0:\n",
    "            print (\"No Password Found for User %s\" % (users[i]))\n",
    "            i += 1\n",
    "    return\n",
    "                \n",
    "    \n",
    "#Exercise 2        \n",
    "def zip_file_password_cracker(dictwords):\n",
    "    for word in dictwords:\n",
    "        #with zipfile.ZipFile('evil_2_2.zip', 'r', password) as zf:\n",
    "        with zipfile.ZipFile('evil_2_2.zip') as zf:\n",
    "            #zf.extractall(pwd=word)\n",
    "            try:\n",
    "                result = zf.extractall(pwd=word)\n",
    "                #Returns None if no wrong password exception, which means correct password\n",
    "                if result == None:\n",
    "                    print (\"Found Zip Password: %s\" % (word))\n",
    "            except:\n",
    "                print (\"Incorrect password: \", word)\n",
    "\n",
    "    return\n",
    "\n",
    "\n",
    "#Exercise 3 Part 1\n",
    "def port_scanner_socket():\n",
    "    #what IP range do we need to scan\n",
    "    print (\"Simple Socket Port scanner\")\n",
    "    ports_to_scan = [21, 22, 23, 25, 80, 143, 443]\n",
    "    remoteServerIP='54.245.90.180'\n",
    "    print (\"Scanning IP %s\" % (remoteServerIP) )\n",
    "\n",
    "    try:\n",
    "        for port in ports_to_scan: \n",
    "            sock = socket.socket(socket.AF_INET, socket.SOCK_STREAM)\n",
    "            result = sock.connect_ex((remoteServerIP, port))\n",
    "            if result == 0:\n",
    "                print (\"Port {}:      Open\".format(port))\n",
    "            else:\n",
    "                print (\"Port {}:      Closed\".format(port))\n",
    "            sock.close()\n",
    "\n",
    "    except:\n",
    "        print (\"Exception\")\n",
    "    return\n",
    "\n",
    "\n",
    "#Exercise 3 Part 2\n",
    "def port_scanner_nmap():\n",
    "    print (\"Nmap Port Scanner\")\n",
    "    nm = nmap.PortScanner()\n",
    "    remoteServerIP='54.245.90.180'\n",
    "    print (\"Scanning IP %s\" % (remoteServerIP)) \n",
    "    ports_to_scan = ['21', '22', '23', '25', '80', '143', '443']\n",
    "    try:\n",
    "        for port in ports_to_scan:\n",
    "            result = nm.scan(remoteServerIP, port)\n",
    "            #print (result)\n",
    "            port = int(port)\n",
    "            #print (result)\n",
    "            reason = result['scan'][remoteServerIP]['tcp'][port]['reason']\n",
    "            #print (\"Port %s    Result: %s\" % (port, result['scan'][remoteServerIP]['tcp'][port]['reason']))\n",
    "            if reason == 'conn-refused' or reason == 'no-response':\n",
    "                print (\"Port %s    Closed\" % (port))\n",
    "            elif reason == 'syn-ack':\n",
    "                print (\"Port %s    Open\" % (port))\n",
    "    except:\n",
    "        print (\"Exception\")\n",
    "    return\n",
    "\n",
    "\n",
    "def main():\n",
    "    dictwords = get_dictionary_words()\n",
    "    passwords = get_passwords()\n",
    "    users = get_users()\n",
    "\n",
    "    #Exercise 1\n",
    "    print (\"Exercise #1-----------------------------------\")\n",
    "    unix_password_cracker(dictwords, passwords, users)\n",
    "    #Exercise 2\n",
    "    print (\"Exercise #2-----------------------------------\")\n",
    "    zip_file_password_cracker(dictwords)\n",
    "    #Exercise 3\n",
    "    print (\"Exercise #3-----------------------------------\")\n",
    "    port_scanner_socket()\n",
    "    port_scanner_nmap()\n",
    "\n",
    "    return\n",
    "\n",
    "\n",
    "if __name__ == \"__main__\":\n",
    "    main()"
   ]
  },
  {
   "cell_type": "code",
   "execution_count": 29,
   "metadata": {
    "collapsed": false
   },
   "outputs": [
    {
     "name": "stdout",
     "output_type": "stream",
     "text": [
      "Passwords: []\n"
     ]
    }
   ],
   "source": [
    "    with open('HW3passwords_2.txt') as f:\n",
    "        data = f.readlines()\n",
    "        passwords = [x.split(\":\")[1].strip() for x in data]\n",
    "        print (\"Passwords:\", passwords)"
   ]
  },
  {
   "cell_type": "code",
   "execution_count": 45,
   "metadata": {
    "collapsed": false
   },
   "outputs": [
    {
     "data": {
      "text/plain": [
       "['apple',\n",
       " 'orange',\n",
       " 'egg',\n",
       " 'lemon',\n",
       " 'grapes',\n",
       " 'secret',\n",
       " 'strawberry',\n",
       " 'password']"
      ]
     },
     "execution_count": 45,
     "metadata": {},
     "output_type": "execute_result"
    }
   ],
   "source": [
    "dictwords"
   ]
  },
  {
   "cell_type": "code",
   "execution_count": 52,
   "metadata": {
    "collapsed": false
   },
   "outputs": [
    {
     "ename": "TypeError",
     "evalue": "ord() expected string of length 1, but int found",
     "output_type": "error",
     "traceback": [
      "\u001b[0;31m---------------------------------------------------------------------------\u001b[0m",
      "\u001b[0;31mTypeError\u001b[0m                                 Traceback (most recent call last)",
      "\u001b[0;32m<ipython-input-52-e7e5fac758fc>\u001b[0m in \u001b[0;36m<module>\u001b[0;34m()\u001b[0m\n\u001b[0;32m----> 1\u001b[0;31m \u001b[0mhashed\u001b[0m \u001b[1;33m=\u001b[0m \u001b[0mcrypt\u001b[0m\u001b[1;33m(\u001b[0m\u001b[0mword\u001b[0m\u001b[1;33m,\u001b[0m \u001b[0msalt\u001b[0m\u001b[1;33m.\u001b[0m\u001b[0mencode\u001b[0m\u001b[1;33m(\u001b[0m\u001b[1;34m'utf-8'\u001b[0m\u001b[1;33m)\u001b[0m\u001b[1;33m)\u001b[0m\u001b[1;33m\u001b[0m\u001b[0m\n\u001b[0m",
      "\u001b[0;32mC:\\ProgramData\\Anaconda3\\lib\\site-packages\\fcrypt.py\u001b[0m in \u001b[0;36mcrypt\u001b[0;34m(password, salt)\u001b[0m\n\u001b[1;32m    587\u001b[0m     \u001b[1;32melif\u001b[0m \u001b[0mlen\u001b[0m\u001b[1;33m(\u001b[0m\u001b[0msalt\u001b[0m\u001b[1;33m)\u001b[0m \u001b[1;33m==\u001b[0m \u001b[1;36m1\u001b[0m\u001b[1;33m:\u001b[0m\u001b[1;33m\u001b[0m\u001b[0m\n\u001b[1;32m    588\u001b[0m         \u001b[0msalt\u001b[0m \u001b[1;33m=\u001b[0m \u001b[0msalt\u001b[0m \u001b[1;33m+\u001b[0m \u001b[1;34m'A'\u001b[0m\u001b[1;33m\u001b[0m\u001b[0m\n\u001b[0;32m--> 589\u001b[0;31m     \u001b[0mEswap0\u001b[0m \u001b[1;33m=\u001b[0m \u001b[0m_con_salt\u001b[0m\u001b[1;33m[\u001b[0m\u001b[0mord\u001b[0m\u001b[1;33m(\u001b[0m\u001b[0msalt\u001b[0m\u001b[1;33m[\u001b[0m\u001b[1;36m0\u001b[0m\u001b[1;33m]\u001b[0m\u001b[1;33m)\u001b[0m \u001b[1;33m&\u001b[0m \u001b[1;36m0x7f\u001b[0m\u001b[1;33m]\u001b[0m\u001b[1;33m\u001b[0m\u001b[0m\n\u001b[0m\u001b[1;32m    590\u001b[0m     \u001b[0mEswap1\u001b[0m \u001b[1;33m=\u001b[0m \u001b[0m_con_salt\u001b[0m\u001b[1;33m[\u001b[0m\u001b[0mord\u001b[0m\u001b[1;33m(\u001b[0m\u001b[0msalt\u001b[0m\u001b[1;33m[\u001b[0m\u001b[1;36m1\u001b[0m\u001b[1;33m]\u001b[0m\u001b[1;33m)\u001b[0m \u001b[1;33m&\u001b[0m \u001b[1;36m0x7f\u001b[0m\u001b[1;33m]\u001b[0m \u001b[1;33m<<\u001b[0m \u001b[1;36m4\u001b[0m\u001b[1;33m\u001b[0m\u001b[0m\n\u001b[1;32m    591\u001b[0m \u001b[1;33m\u001b[0m\u001b[0m\n",
      "\u001b[0;31mTypeError\u001b[0m: ord() expected string of length 1, but int found"
     ]
    }
   ],
   "source": [
    "hashed = crypt(word, salt.encode('utf-8'))"
   ]
  },
  {
   "cell_type": "code",
   "execution_count": 47,
   "metadata": {
    "collapsed": false
   },
   "outputs": [
    {
     "data": {
      "text/plain": [
       "'apple'"
      ]
     },
     "execution_count": 47,
     "metadata": {},
     "output_type": "execute_result"
    }
   ],
   "source": [
    "word"
   ]
  },
  {
   "cell_type": "code",
   "execution_count": 48,
   "metadata": {
    "collapsed": false
   },
   "outputs": [
    {
     "data": {
      "text/plain": [
       "'cE'"
      ]
     },
     "execution_count": 48,
     "metadata": {},
     "output_type": "execute_result"
    }
   ],
   "source": [
    "salt"
   ]
  },
  {
   "cell_type": "code",
   "execution_count": null,
   "metadata": {
    "collapsed": true
   },
   "outputs": [],
   "source": []
  }
 ],
 "metadata": {
  "kernelspec": {
   "display_name": "Python 3",
   "language": "python",
   "name": "python3"
  }
 },
 "nbformat": 4,
 "nbformat_minor": 2
}
